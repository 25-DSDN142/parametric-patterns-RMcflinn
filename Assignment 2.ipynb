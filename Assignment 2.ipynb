{
 "cells": [
  {
   "cell_type": "code",
   "execution_count": null,
   "id": "4f322701-0411-446b-a1a3-319d082b6893",
   "metadata": {},
   "outputs": [],
   "source": [
    "def Ranger(number):\n",
    "    if 0<= number <= 100:\n",
    "        print(\"number is in range\") \n",
    "    else: \n",
    "        print(\"number is outside given range\") \n",
    "  "
   ]
  },
  {
   "cell_type": "code",
   "execution_count": null,
   "id": "a248822c-30af-4561-bbc0-7f257e3137f4",
   "metadata": {},
   "outputs": [],
   "source": [
    "Ranger(30)"
   ]
  },
  {
   "cell_type": "code",
   "execution_count": null,
   "id": "22131d95-0b49-434f-9ef8-3a12384e69b4",
   "metadata": {},
   "outputs": [],
   "source": [
    "Ranger(-1)"
   ]
  },
  {
   "cell_type": "code",
   "execution_count": null,
   "id": "2ecc4bbb-b205-44f0-bb4a-d1c0ee09a744",
   "metadata": {},
   "outputs": [],
   "source": [
    "Ranger(101)"
   ]
  },
  {
   "cell_type": "code",
   "execution_count": null,
   "id": "d9739388-ddd0-4b45-975f-cfc8c4c32a75",
   "metadata": {},
   "outputs": [],
   "source": [
    "def Ranger2(n, Min, Max):\n",
    "    if n>= Min and n<= Max: \n",
    "        print(f'{n} is in the range ({Min}, {Max})')\n",
    "    else: \n",
    "        print(f'{n} is not in the range ({Min}, {Max})')"
   ]
  },
  {
   "cell_type": "code",
   "execution_count": null,
   "id": "19ec290c-af12-42c0-8294-d0f821eb6d76",
   "metadata": {},
   "outputs": [],
   "source": [
    "Ranger2(2, 50, 100)"
   ]
  },
  {
   "cell_type": "code",
   "execution_count": null,
   "id": "931c97ca-b59e-405c-8278-5424026eb820",
   "metadata": {},
   "outputs": [],
   "source": [
    "Ranger2(105, 100, 200)"
   ]
  },
  {
   "cell_type": "code",
   "execution_count": null,
   "id": "4450eb78-726b-466b-90c2-c0983134749b",
   "metadata": {},
   "outputs": [],
   "source": [
    "def WeeklyPayment(Rate, Hours):\n",
    "    if Hours>50:\n",
    "        print(\"Warning: please rest before death\")\n",
    "    if Hours>40:\n",
    "        extra = Hours-40\n",
    "        pay = (extra*2*Rate)+(Rate*40)\n",
    "    else:\n",
    "        pay = Rate*Hours\n",
    "    print(f'Your Weekly Pay is: ${pay}')\n",
    " \n"
   ]
  },
  {
   "cell_type": "code",
   "execution_count": null,
   "id": "0d591468-9f3f-4030-9bbb-2756c7ff637e",
   "metadata": {},
   "outputs": [],
   "source": [
    "WeeklyPayment(50, 60)"
   ]
  },
  {
   "cell_type": "code",
   "execution_count": null,
   "id": "8dc5dae7-354f-4b9e-b27d-d0361d5b255f",
   "metadata": {},
   "outputs": [],
   "source": [
    "WeeklyPayment(30, 15)"
   ]
  },
  {
   "cell_type": "code",
   "execution_count": null,
   "id": "623d4f2f-415c-4fd3-9f77-1d7661b529bd",
   "metadata": {},
   "outputs": [],
   "source": [
    "def flip():\n",
    "    import random\n",
    "    n = random.randrange(2)\n",
    "    if n == 1:\n",
    "        print (\"Heads\") \n",
    "    else: \n",
    "        print (\"Tails\") "
   ]
  },
  {
   "cell_type": "code",
   "execution_count": null,
   "id": "2162e26e-5942-4334-be2d-1490f1092412",
   "metadata": {},
   "outputs": [],
   "source": [
    "flip()"
   ]
  },
  {
   "cell_type": "code",
   "execution_count": null,
   "id": "4bf541c9-8088-4fe4-876a-9267b45ab33f",
   "metadata": {},
   "outputs": [],
   "source": [
    "def GuessTheNumber(): \n",
    "    guess = input (\"Guess the number:\")\n",
    "    g = int (guess) #turns any input into whole number\n",
    "    if g == num:\n",
    "        print (\"Correct!\", num, \"is the number.\")\n",
    "        \n",
    "    elif g > num:\n",
    "        print (\"Too High! Guess again.\")\n",
    "        GuessTheNumber()\n",
    "    else: \n",
    "        print (\"Too Low! Guess again.\")\n",
    "        GuessTheNumber()"
   ]
  },
  {
   "cell_type": "code",
   "execution_count": null,
   "id": "b5446d27-51e8-46e7-ae49-49c5284b9168",
   "metadata": {},
   "outputs": [],
   "source": [
    "import random  \n",
    "num = random.randrange(1,9)\n",
    "GuessTheNumber()"
   ]
  },
  {
   "cell_type": "code",
   "execution_count": null,
   "id": "6ee71e79-81dc-4317-b15e-f296ef464410",
   "metadata": {},
   "outputs": [],
   "source": [
    "y = 0 \n",
    "for x in range (101): #exlusive of the last number. 'for' is loop\n",
    "    y = y + x   \n",
    "    \n",
    "print (y)"
   ]
  },
  {
   "cell_type": "code",
   "execution_count": null,
   "id": "3bb78681-47d2-4bc9-87ab-6ac75e872f3a",
   "metadata": {},
   "outputs": [],
   "source": [
    "for y in range(1,31):\n",
    "    if y  % 3 == 0 and y % 5 == 0: # % = modulo\n",
    "        print(\"FizzBuzz\")\n",
    "    elif y % 3 == 0:\n",
    "         print (\"Fizz\")\n",
    "    elif y % 5 == 0:\n",
    "         print (\"Buzz\")\n",
    "    else:\n",
    "         print (y)\n"
   ]
  },
  {
   "cell_type": "code",
   "execution_count": null,
   "id": "799c566e-64cc-4fc1-ac2e-ad6e5b29bd14",
   "metadata": {},
   "outputs": [],
   "source": [
    "def initial_initials(First_Name, Last_Name):\n",
    "    initials = First_Name[0].upper() + Last_Name[0].upper()\n",
    "    print(initials)"
   ]
  },
  {
   "cell_type": "code",
   "execution_count": null,
   "id": "d646aede-11f7-4845-9bef-28d57b4ca6e2",
   "metadata": {},
   "outputs": [],
   "source": [
    "initial_initials('rachel', 'mcflinn')"
   ]
  },
  {
   "cell_type": "code",
   "execution_count": null,
   "id": "380cbba2-c64e-4f42-b7d7-59423e799f07",
   "metadata": {},
   "outputs": [],
   "source": [
    "initial_initials('trisha', 'paytas')"
   ]
  },
  {
   "cell_type": "code",
   "execution_count": null,
   "id": "99bfda9f-3acb-4282-a87f-a740c5d396b5",
   "metadata": {},
   "outputs": [],
   "source": [
    "initial_initials('Aqua', 'Man')"
   ]
  },
  {
   "cell_type": "code",
   "execution_count": null,
   "id": "3e4e5033-70f5-451e-8c1a-a6a68eb543e8",
   "metadata": {},
   "outputs": [],
   "source": [
    "def initialising(letters):\n",
    "    Lower = 0\n",
    "    Upper = 0\n",
    "    for x in letters:\n",
    "        if x.islower() == True:\n",
    "            Lower = Lower+1\n",
    "        elif x.isupper() == True:\n",
    "            Upper = Upper + 1\n",
    "    print (\"Upper Case:\" , Upper)\n",
    "    print (\"Lower Case:\" ,Lower)"
   ]
  },
  {
   "cell_type": "code",
   "execution_count": null,
   "id": "ade67582-2fdd-49d0-82d5-b81bb58bac99",
   "metadata": {},
   "outputs": [],
   "source": [
    "initialising(\"They hit the second tower!\")"
   ]
  },
  {
   "cell_type": "code",
   "execution_count": null,
   "id": "ff6f277f-0480-4510-b264-29c1ac7b1512",
   "metadata": {},
   "outputs": [],
   "source": [
    "initialising(\"THEY HIT THE SECOND TOWER!\")"
   ]
  },
  {
   "cell_type": "code",
   "execution_count": null,
   "id": "84e10709-c449-430b-8da4-4db3cb3b0203",
   "metadata": {},
   "outputs": [],
   "source": [
    "initialising(\"Broke Into The Bakery And Stole All The Pies\")"
   ]
  },
  {
   "cell_type": "code",
   "execution_count": null,
   "id": "8cf7cb19-5df3-4e0d-9d73-d9eb33277fed",
   "metadata": {},
   "outputs": [],
   "source": [
    "def palindrome(word):\n",
    "    first_word = word.casefold().replace(' ' , '')\n",
    "    \n",
    "    if first_word == first_word[::-1]:\n",
    "        print (\"Pali Pali Palindromeee!!!\")\n",
    "    else: \n",
    "        print (\"No Palindrome round here\")"
   ]
  },
  {
   "cell_type": "code",
   "execution_count": null,
   "id": "08e48e84-874f-47d4-8e48-d7e6f72f3a41",
   "metadata": {},
   "outputs": [],
   "source": [
    "palindrome(\"door\")"
   ]
  },
  {
   "cell_type": "code",
   "execution_count": null,
   "id": "922525f3-d4dc-4082-b38b-54eacf749bf3",
   "metadata": {},
   "outputs": [],
   "source": [
    "palindrome(\"hannah\")"
   ]
  },
  {
   "cell_type": "code",
   "execution_count": null,
   "id": "92325068-597b-4945-ac6f-aa994f3cf59f",
   "metadata": {},
   "outputs": [],
   "source": [
    "palindrome(\"Rise to vote sir\")"
   ]
  },
  {
   "cell_type": "code",
   "execution_count": null,
   "id": "f9c3b637-53b5-4b32-a508-87043e6f3cbd",
   "metadata": {},
   "outputs": [],
   "source": [
    "colourList = ['green', 'black', 'red', 'white']\n",
    "first_colour = colourList[0]\n",
    "last_colour = colourList[-1]\n",
    "print(\"The first colour is \", first_colour)\n",
    "print(\"The last colour is \", last_colour)\n",
    "    \n"
   ]
  },
  {
   "cell_type": "code",
   "execution_count": 8,
   "id": "9c95fe53-03ca-4084-82cf-c82fa7c5869f",
   "metadata": {},
   "outputs": [],
   "source": [
    "def ScoreCalc():\n",
    "    print(\"Enter your 5 assignment scores and 1 exam score (0-100), separated by commas:\")\n",
    "    print(\"Example: 80, 90, 85, 75, 95, 88\")\n",
    "    \n",
    "    while True:\n",
    "        try:\n",
    "            scores_input = input(\"Scores: \")\n",
    "            scores = [float(x.strip()) for x in scores_input.split(',')]\n",
    "            \n",
    "            if len(scores) != 6:\n",
    "                print(\"Please enter exactly 6 numbers (5 assignments + 1 exam). Try again.\")\n",
    "                continue\n",
    "                \n",
    "            for s in scores:\n",
    "                if s < 0 or s > 100:\n",
    "                    print(\"All scores must be between 0 and 100. Try again.\")\n",
    "                    break\n",
    "            else:  \n",
    "                weights = [0.10, 0.10, 0.10, 0.15, 0.20, 0.35]\n",
    "                total = sum(score * weight for score, weight in zip(scores, weights))\n",
    "                \n",
    "                print(f\"\\nYour total course score is: {total:.2f}/100\")\n",
    "                break\n",
    "                \n",
    "        except ValueError:\n",
    "            print(\"Please enter only numbers separated by commas. Try again.\")"
   ]
  },
  {
   "cell_type": "code",
   "execution_count": 9,
   "id": "e0c4b8b3-2ce3-4bdb-8947-962b00f951e2",
   "metadata": {},
   "outputs": [
    {
     "name": "stdout",
     "output_type": "stream",
     "text": [
      "Enter your 5 assignment scores and 1 exam score (0-100), separated by commas:\n",
      "Example: 80, 90, 85, 75, 95, 88\n"
     ]
    },
    {
     "name": "stdin",
     "output_type": "stream",
     "text": [
      "Scores:  8, 8 8 8 8 8\n"
     ]
    },
    {
     "name": "stdout",
     "output_type": "stream",
     "text": [
      "Please enter only numbers separated by commas. Try again.\n"
     ]
    },
    {
     "name": "stdin",
     "output_type": "stream",
     "text": [
      "Scores:  8, 8, 8, \n"
     ]
    },
    {
     "name": "stdout",
     "output_type": "stream",
     "text": [
      "Please enter only numbers separated by commas. Try again.\n"
     ]
    },
    {
     "name": "stdin",
     "output_type": "stream",
     "text": [
      "Scores:  80, 80, 80, 80, 80, 80\n"
     ]
    },
    {
     "name": "stdout",
     "output_type": "stream",
     "text": [
      "\n",
      "Your total course score is: 80.00/100\n"
     ]
    }
   ],
   "source": [
    "ScoreCalc()"
   ]
  },
  {
   "cell_type": "code",
   "execution_count": 12,
   "id": "29b40f9e-1fea-46db-a92d-b1bce7ec1a60",
   "metadata": {},
   "outputs": [],
   "source": [
    "def DoRayMe():\n",
    "         \n",
    "    words = ['do', 'rey', 'me', 'fa', 'so', 'la', 'te']\n",
    "    frequency = {item: words.count(item) for item in set(words)}\n",
    "    \n",
    "    for item, count in frequency.items():\n",
    "        print(f\"{item}: {count}\")"
   ]
  },
  {
   "cell_type": "code",
   "execution_count": 14,
   "id": "01f5d6a5-cb56-4ef4-82d9-1f7207c2fe19",
   "metadata": {},
   "outputs": [
    {
     "name": "stdout",
     "output_type": "stream",
     "text": [
      "rey: 1\n",
      "do: 1\n",
      "te: 1\n",
      "me: 1\n",
      "fa: 1\n",
      "la: 1\n",
      "so: 1\n"
     ]
    }
   ],
   "source": [
    "DoRayMe()"
   ]
  },
  {
   "cell_type": "code",
   "execution_count": null,
   "id": "d8608d96-ab20-424d-85b3-1de45e08d561",
   "metadata": {},
   "outputs": [],
   "source": []
  }
 ],
 "metadata": {
  "kernelspec": {
   "display_name": "Python 3 (ipykernel)",
   "language": "python",
   "name": "python3"
  },
  "language_info": {
   "codemirror_mode": {
    "name": "ipython",
    "version": 3
   },
   "file_extension": ".py",
   "mimetype": "text/x-python",
   "name": "python",
   "nbconvert_exporter": "python",
   "pygments_lexer": "ipython3",
   "version": "3.11.9"
  }
 },
 "nbformat": 4,
 "nbformat_minor": 5
}
